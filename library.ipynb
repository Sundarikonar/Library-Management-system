{
 "cells": [
  {
   "cell_type": "code",
   "execution_count": 8,
   "id": "7c986beb",
   "metadata": {},
   "outputs": [
    {
     "name": "stdout",
     "output_type": "stream",
     "text": [
      "Requirement already satisfied: mysql-connector-python in c:\\users\\user\\anaconda3\\lib\\site-packages (8.0.28)Note: you may need to restart the kernel to use updated packages.\n",
      "Requirement already satisfied: protobuf>=3.0.0 in c:\\users\\user\\anaconda3\\lib\\site-packages (from mysql-connector-python) (3.19.4)\n",
      "\n"
     ]
    }
   ],
   "source": [
    "pip install mysql-connector-python"
   ]
  },
  {
   "cell_type": "code",
   "execution_count": 9,
   "id": "30fbed31",
   "metadata": {},
   "outputs": [],
   "source": [
    "import mysql.connector as mysql"
   ]
  },
  {
   "cell_type": "code",
   "execution_count": 11,
   "id": "d7498246",
   "metadata": {},
   "outputs": [
    {
     "name": "stdout",
     "output_type": "stream",
     "text": [
      "Connection of Database\n",
      "Connected!!\n",
      "Cursor created Successfully!!\n"
     ]
    }
   ],
   "source": [
    "print(\"Connection of Database\")\n",
    "try:\n",
    "    connection=mysql.connect(user=\"root\",\n",
    "                             password=\"\",\n",
    "                            host=\"localhost\",\n",
    "                            database=\"library\",\n",
    "                            port=3306)\n",
    "except:\n",
    "    print(\"Error!\")\n",
    "else:\n",
    "    print(\"Connected!!\")\n",
    "    my_cursor=connection.cursor(prepared=True)\n",
    "    print(\"Cursor created Successfully!!\")"
   ]
  },
  {
   "cell_type": "code",
   "execution_count": 20,
   "id": "55290d23",
   "metadata": {},
   "outputs": [
    {
     "name": "stdout",
     "output_type": "stream",
     "text": [
      "1 Inserted\n"
     ]
    }
   ],
   "source": [
    "bookname=\"The Monk who sold his ferari\"\n",
    "author=\"Robin Sharma\"\n",
    "issuedby=\"Sundari\"\n",
    "issuedate=\"2022-12-11\"\n",
    "charges=100\n",
    "\n",
    "insert_query=\"insert into books(bookname,author,issuedby,issuedate,charges) values(?,?,?,?,?)\"\n",
    "my_cursor.execute(insert_query,(bookname,author,issuedby,issuedate,charges))\n",
    "connection.commit()\n",
    "print(my_cursor.rowcount,\"Inserted\")"
   ]
  },
  {
   "cell_type": "code",
   "execution_count": 21,
   "id": "10e3bcd3",
   "metadata": {},
   "outputs": [
    {
     "name": "stdout",
     "output_type": "stream",
     "text": [
      "3 Inserted\n"
     ]
    }
   ],
   "source": [
    "data=[(\"The Testaments\",\"Margaret Atwood\",\"Smit\",\"2021-02-05\",250),\n",
    "     (\"Will\",\"Will Smith and Mark Manson\",\"Shoaib\",\"2022-01-22\",200),\n",
    "     (\"It’s a Wonderful Life\",\"Ruskin Bond\",\"Monisha\",\"2021-11-12\",300)]\n",
    "\n",
    "my_cursor.executemany(insert_query,data)\n",
    "connection.commit()\n",
    "print(my_cursor.rowcount,\"Inserted\")"
   ]
  },
  {
   "cell_type": "code",
   "execution_count": 28,
   "id": "0a09e3db",
   "metadata": {},
   "outputs": [
    {
     "name": "stdout",
     "output_type": "stream",
     "text": [
      "1 updated\n"
     ]
    }
   ],
   "source": [
    "update_query=\"update books set charges=? where id=?\"\n",
    "\n",
    "my_cursor.execute(update_query,(200,1))\n",
    "connection.commit()\n",
    "print(my_cursor.rowcount,\"updated\")"
   ]
  },
  {
   "cell_type": "code",
   "execution_count": 30,
   "id": "c943e280",
   "metadata": {},
   "outputs": [
    {
     "name": "stdout",
     "output_type": "stream",
     "text": [
      "1 Deleted\n"
     ]
    }
   ],
   "source": [
    "delete_query=\"delete from books where id=2\"\n",
    "\n",
    "my_cursor.execute(delete_query)\n",
    "connection.commit()\n",
    "print(my_cursor.rowcount,\"Deleted\")"
   ]
  },
  {
   "cell_type": "code",
   "execution_count": null,
   "id": "b66b3950",
   "metadata": {},
   "outputs": [],
   "source": []
  }
 ],
 "metadata": {
  "kernelspec": {
   "display_name": "Python 3",
   "language": "python",
   "name": "python3"
  },
  "language_info": {
   "codemirror_mode": {
    "name": "ipython",
    "version": 3
   },
   "file_extension": ".py",
   "mimetype": "text/x-python",
   "name": "python",
   "nbconvert_exporter": "python",
   "pygments_lexer": "ipython3",
   "version": "3.8.8"
  }
 },
 "nbformat": 4,
 "nbformat_minor": 5
}
